{
 "cells": [
  {
   "cell_type": "code",
   "execution_count": 45,
   "id": "fe9eb5b7-d914-4e75-844e-3dcfeb613492",
   "metadata": {},
   "outputs": [
    {
     "name": "stdout",
     "output_type": "stream",
     "text": [
      "25.5\n",
      "110.0\n",
      "3.6363636363636362\n",
      "3.0\n",
      "3.5\n",
      "14310835.055998653\n",
      "14310835.06\n"
     ]
    }
   ],
   "source": [
    "x=20\n",
    "y=5.5\n",
    "print(x+y)\n",
    "print(x*y)\n",
    "print(x/y)\n",
    "print(x//y)\n",
    "print(x%y)\n",
    "print(x**y)\n",
    "print(f\"{x**y:.2f}\")"
   ]
  },
  {
   "cell_type": "code",
   "execution_count": 49,
   "id": "6ab18831-0bde-4097-9784-46d29c72c155",
   "metadata": {},
   "outputs": [
    {
     "name": "stdout",
     "output_type": "stream",
     "text": [
      "True\n",
      "False\n",
      "True\n",
      "False\n",
      "False\n",
      "True\n"
     ]
    }
   ],
   "source": [
    "a=12\n",
    "b=3\n",
    "print(a>b)\n",
    "print(a<b)\n",
    "print(a>=b)\n",
    "print(a<=b)\n",
    "print(a==b)\n",
    "print(a!=b)\n",
    "\n",
    "\n",
    "\n",
    "\n",
    "\n",
    "\n"
   ]
  },
  {
   "cell_type": "code",
   "execution_count": 61,
   "id": "49484590-ebd0-4c16-a14d-b71cc57ab191",
   "metadata": {},
   "outputs": [
    {
     "name": "stdout",
     "output_type": "stream",
     "text": [
      "8\n",
      "25\n",
      "268435456\n",
      "0\n"
     ]
    }
   ],
   "source": [
    "a=8\n",
    "b=25\n",
    "print(a&b)\n",
    "print(a|b)\n",
    "print(a<<b)\n",
    "print(a>>b)\n",
    "\n",
    "\n"
   ]
  },
  {
   "cell_type": "code",
   "execution_count": 77,
   "id": "e95939a8-b413-4dcc-9a9c-a79047ad2a06",
   "metadata": {},
   "outputs": [
    {
     "name": "stdout",
     "output_type": "stream",
     "text": [
      "2\n",
      "14\n",
      "12\n",
      "-11\n",
      "-7\n"
     ]
    }
   ],
   "source": [
    "a=10\n",
    "b=6\n",
    "print(a&b)\n",
    "print(a|b)\n",
    "print(a^b)\n",
    "print(~a)\n",
    "print(~b)\n",
    "\n",
    "\n",
    "\n"
   ]
  },
  {
   "cell_type": "code",
   "execution_count": 101,
   "id": "1f97c4c2-dcd2-4a64-ad43-44e3e372bcfe",
   "metadata": {},
   "outputs": [
    {
     "name": "stdout",
     "output_type": "stream",
     "text": [
      "True\n",
      "True\n",
      "False\n",
      "python is a high level programming language\n",
      "egaugnal gnimmargorp level hgih a si nohtyp\n",
      "is a high level programming language\n",
      "python is a high level programming languagepython is a high level programming language\n",
      "python is a high level programming language.\n"
     ]
    }
   ],
   "source": [
    "s=\"python is a high level programming language\"\n",
    "print(\"python \" in s)\n",
    "print(\"level\" in s)\n",
    "print(\"script\" in s)\n",
    "print(s)\n",
    "print(s[::-1])\n",
    "print(s[7:])\n",
    "print(s*2)\n",
    "print(s+\".\")\n",
    "\n",
    "\n",
    "\n"
   ]
  },
  {
   "cell_type": "code",
   "execution_count": null,
   "id": "a2e3e935-2766-427c-b1ed-2ba0222ee051",
   "metadata": {},
   "outputs": [],
   "source": [
    "  "
   ]
  }
 ],
 "metadata": {
  "kernelspec": {
   "display_name": "Python 3 (ipykernel)",
   "language": "python",
   "name": "python3"
  },
  "language_info": {
   "codemirror_mode": {
    "name": "ipython",
    "version": 3
   },
   "file_extension": ".py",
   "mimetype": "text/x-python",
   "name": "python",
   "nbconvert_exporter": "python",
   "pygments_lexer": "ipython3",
   "version": "3.12.4"
  }
 },
 "nbformat": 4,
 "nbformat_minor": 5
}
